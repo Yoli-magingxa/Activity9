{
 "cells": [
  {
   "cell_type": "code",
   "execution_count": 2,
   "id": "ed9d6579-e20e-41b3-932f-987db3fdf33b",
   "metadata": {},
   "outputs": [
    {
     "name": "stdout",
     "output_type": "stream",
     "text": [
      "[22, 23, 27, 28]\n"
     ]
    }
   ],
   "source": [
    "\n",
    "def selection_sorting(my_nums):\n",
    "#This line defines a function named selection_sorting that takes a list of numbers (my_nums) as input.\n",
    "    n = len(my_nums)\n",
    "    #This line calculates the length of the input list.\n",
    "    for i in range(n):\n",
    "        #This line starts a loop that iterates through each index of the list.\n",
    "        min_index = i \n",
    "        #This line initializes the index of the minimum value to the current index i.\n",
    "        for j in range(i+1,n):\n",
    "        #This line starts a nested loop that iterates through the unsorted part of the list.\n",
    "            if my_nums[j]<my_nums[min_index]:\n",
    "               # This line checks if the value at index j is smaller than the value at the current minimum index min_index.\n",
    "                min_index =j\n",
    "                #This line updates the index of the minimum value if a smaller value is found.\n",
    "        temp = my_nums[i]\n",
    "        #This line temporarily stores the value at index i before swapping.\n",
    "        my_nums[i] = my_nums[min_index]\n",
    "        #This line swaps the value at index i with the minimum value found.\n",
    "        my_nums[min_index]= temp\n",
    "        #his line assigns the stored value to the index where the minimum value was originally located.\n",
    "\n",
    "#This line initializes an unsorted list of numbers.\n",
    "my_nums = [28,23,27,22]\n",
    "\n",
    "selection_sorting(my_nums)\n",
    "#This line calls the selection_sorting function to sort the list my_nums.\n",
    "print(my_nums)"
   ]
  },
  {
   "cell_type": "code",
   "execution_count": 3,
   "id": "e09dd958-da64-4b78-81e9-a121d4e1a8b6",
   "metadata": {},
   "outputs": [
    {
     "name": "stdout",
     "output_type": "stream",
     "text": [
      "[2, 3, 7, 8]\n"
     ]
    }
   ],
   "source": [
    "def selection_sorting(my_nums):\n",
    "#This line defines a function named selection_sorting that takes a list of numbers (my_nums) as input.\n",
    "    n = len(my_nums)\n",
    "    #This line calculates the length of the input list.\n",
    "    for i in range(n):\n",
    "        #This line starts a loop that iterates through each index of the list.\n",
    "        min_index = i \n",
    "        #This line initializes the index of the minimum value to the current index i.\n",
    "        for j in range(i+1,n):\n",
    "        #This line starts a nested loop that iterates through the unsorted part of the list.\n",
    "            if my_nums[j]<my_nums[min_index]:\n",
    "               # This line checks if the value at index j is smaller than the value at the current minimum index min_index.\n",
    "                min_index =j\n",
    "                #This line updates the index of the minimum value if a smaller value is found.\n",
    "        temp = my_nums[i]\n",
    "        #This line temporarily stores the value at index i before swapping.\n",
    "        my_nums[i] = my_nums[min_index]\n",
    "        #This line swaps the value at index i with the minimum value found.\n",
    "        my_nums[min_index]= temp\n",
    "        #his line assigns the stored value to the index where the minimum value was originally located.\n",
    "\n",
    "#This line initializes an unsorted list of numbers.\n",
    "my_nums = [8,3,7,2]\n",
    "\n",
    "selection_sorting(my_nums)\n",
    "#This line calls the selection_sorting function to sort the list my_nums.\n",
    "print(my_nums)"
   ]
  },
  {
   "cell_type": "code",
   "execution_count": 4,
   "id": "c81d15ac-cde2-4c08-9e1a-7739feb0894f",
   "metadata": {},
   "outputs": [
    {
     "name": "stdout",
     "output_type": "stream",
     "text": [
      "[12, 13, 17, 18]\n"
     ]
    }
   ],
   "source": [
    "def selection_sorting(my_nums):\n",
    "#This line defines a function named selection_sorting that takes a list of numbers (my_nums) as input.\n",
    "    n = len(my_nums)\n",
    "    #This line calculates the length of the input list.\n",
    "    for i in range(n):\n",
    "        #This line starts a loop that iterates through each index of the list.\n",
    "        min_index = i \n",
    "        #This line initializes the index of the minimum value to the current index i.\n",
    "        for j in range(i+1,n):\n",
    "        #This line starts a nested loop that iterates through the unsorted part of the list.\n",
    "            if my_nums[j]<my_nums[min_index]:\n",
    "               # This line checks if the value at index j is smaller than the value at the current minimum index min_index.\n",
    "                min_index =j\n",
    "                #This line updates the index of the minimum value if a smaller value is found.\n",
    "        temp = my_nums[i]\n",
    "        #This line temporarily stores the value at index i before swapping.\n",
    "        my_nums[i] = my_nums[min_index]\n",
    "        #This line swaps the value at index i with the minimum value found.\n",
    "        my_nums[min_index]= temp\n",
    "        #his line assigns the stored value to the index where the minimum value was originally located.\n",
    "\n",
    "#This line initializes an unsorted list of numbers.\n",
    "my_nums = [18,13,17,12]\n",
    "\n",
    "selection_sorting(my_nums)\n",
    "#This line calls the selection_sorting function to sort the list my_nums.\n",
    "print(my_nums)"
   ]
  },
  {
   "cell_type": "code",
   "execution_count": null,
   "id": "b5eaf8c7-1532-490b-be9f-e28c1b911736",
   "metadata": {},
   "outputs": [],
   "source": []
  }
 ],
 "metadata": {
  "kernelspec": {
   "display_name": "Python 3 (ipykernel)",
   "language": "python",
   "name": "python3"
  },
  "language_info": {
   "codemirror_mode": {
    "name": "ipython",
    "version": 3
   },
   "file_extension": ".py",
   "mimetype": "text/x-python",
   "name": "python",
   "nbconvert_exporter": "python",
   "pygments_lexer": "ipython3",
   "version": "3.12.2"
  }
 },
 "nbformat": 4,
 "nbformat_minor": 5
}
